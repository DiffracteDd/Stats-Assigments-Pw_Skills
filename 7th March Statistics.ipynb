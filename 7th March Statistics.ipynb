{
 "cells": [
  {
   "cell_type": "markdown",
   "id": "3569fd97-c11a-45ee-8f54-a2ad8145cab1",
   "metadata": {},
   "source": [
    "1> The three measures of central tendency are \n",
    "\n",
    "    a)Mean\n",
    "    b)Median\n",
    "    c)Mode"
   ]
  },
  {
   "cell_type": "markdown",
   "id": "ba28ff38-0494-4e69-9df8-15088017951f",
   "metadata": {},
   "source": [
    "2> \n",
    "\n",
    "    1>Mean : Gives the average of the data \n",
    "    2> Median : Gives the middle most element in the dataset\n",
    "    3> Mode : Gives the data which has occured the maximum number of times"
   ]
  },
  {
   "cell_type": "markdown",
   "id": "ad88af3c-598c-48af-aa1b-974ae815e36c",
   "metadata": {},
   "source": [
    "3> "
   ]
  },
  {
   "cell_type": "code",
   "execution_count": 4,
   "id": "e2fb85d8-0507-4b5c-8a00-3b4427120d6d",
   "metadata": {},
   "outputs": [
    {
     "data": {
      "text/plain": [
       "177.01875"
      ]
     },
     "execution_count": 4,
     "metadata": {},
     "output_type": "execute_result"
    }
   ],
   "source": [
    "df=[178,177,176,177,178.2,178,175,179,180,175,178.9,176.2,177,172.5,178,176.5]\n",
    "import numpy as np\n",
    "np.mean(df)"
   ]
  },
  {
   "cell_type": "code",
   "execution_count": 5,
   "id": "3be0df2f-692b-4fee-a0f5-1afc53719d5d",
   "metadata": {},
   "outputs": [
    {
     "data": {
      "text/plain": [
       "177.0"
      ]
     },
     "execution_count": 5,
     "metadata": {},
     "output_type": "execute_result"
    }
   ],
   "source": [
    "np.median(df)"
   ]
  },
  {
   "cell_type": "code",
   "execution_count": 8,
   "id": "e448bb20-99c8-4b76-8f5f-389474c347d2",
   "metadata": {},
   "outputs": [
    {
     "name": "stderr",
     "output_type": "stream",
     "text": [
      "/tmp/ipykernel_77/4057379663.py:2: FutureWarning: Unlike other reduction functions (e.g. `skew`, `kurtosis`), the default behavior of `mode` typically preserves the axis it acts along. In SciPy 1.11.0, this behavior will change: the default value of `keepdims` will become False, the `axis` over which the statistic is taken will be eliminated, and the value None will no longer be accepted. Set `keepdims` to True or False to avoid this warning.\n",
      "  stats.mode(df)\n"
     ]
    },
    {
     "data": {
      "text/plain": [
       "ModeResult(mode=array([177.]), count=array([3]))"
      ]
     },
     "execution_count": 8,
     "metadata": {},
     "output_type": "execute_result"
    }
   ],
   "source": [
    "from scipy import stats\n",
    "stats.mode(df)"
   ]
  },
  {
   "cell_type": "markdown",
   "id": "844afe4a-3115-46b2-b10b-40b9916097bc",
   "metadata": {},
   "source": [
    "3>"
   ]
  },
  {
   "cell_type": "code",
   "execution_count": 9,
   "id": "7059f62c-9dc9-40b4-bcab-54027909ad34",
   "metadata": {},
   "outputs": [
    {
     "data": {
      "text/plain": [
       "[178,\n",
       " 177,\n",
       " 176,\n",
       " 177,\n",
       " 178.2,\n",
       " 178,\n",
       " 175,\n",
       " 179,\n",
       " 180,\n",
       " 175,\n",
       " 178.9,\n",
       " 176.2,\n",
       " 177,\n",
       " 172.5,\n",
       " 178,\n",
       " 176.5]"
      ]
     },
     "execution_count": 9,
     "metadata": {},
     "output_type": "execute_result"
    }
   ],
   "source": [
    "df"
   ]
  },
  {
   "cell_type": "code",
   "execution_count": 10,
   "id": "f3f4ed96-442a-4e3c-9261-80df968157e0",
   "metadata": {},
   "outputs": [],
   "source": [
    "import pandas as pd"
   ]
  },
  {
   "cell_type": "code",
   "execution_count": 16,
   "id": "e0beb43c-d24c-4ef7-9129-167a5c3bf191",
   "metadata": {},
   "outputs": [
    {
     "data": {
      "text/plain": [
       "0    1.847239\n",
       "dtype: float64"
      ]
     },
     "execution_count": 16,
     "metadata": {},
     "output_type": "execute_result"
    }
   ],
   "source": [
    "d=pd.DataFrame(df)\n",
    "d.std()"
   ]
  },
  {
   "cell_type": "markdown",
   "id": "24d9ce5b-1ae8-49c1-87a8-6a3ce75373e5",
   "metadata": {},
   "source": [
    "4> \n",
    "\n",
    "    a) range gives an idea of the maximum and minimum values in the dataset\n",
    "    b) variance gives the measure of dispersion present in the dataset\n",
    "    c) Standard Deviation is the root of variance "
   ]
  },
  {
   "cell_type": "markdown",
   "id": "877aa06d-3dff-4fa8-960e-f18afd06fe86",
   "metadata": {},
   "source": [
    "6> Venn diagram is a chart with circle shaped figures which includes the objects present inside a domain. If tan object lies in two domains then it will lie in the intersection of the two circles. "
   ]
  },
  {
   "cell_type": "markdown",
   "id": "903835d3-eb03-4f0e-9e04-44174fa1cba2",
   "metadata": {},
   "source": [
    "7>1) A intersection B : {2,6}\n",
    "  2) A U B : {0,2,3,4,5,6,8,10}"
   ]
  },
  {
   "cell_type": "markdown",
   "id": "5475fc89-5279-45af-b93e-357289f92ef1",
   "metadata": {},
   "source": [
    "8> Skewness is the measure of asymmetry in a dataset."
   ]
  },
  {
   "cell_type": "markdown",
   "id": "785c1100-361b-46cb-9c67-636a00d7e454",
   "metadata": {},
   "source": [
    "9> In a skewed dataset , the median will be unwavered by the skewed data whereas the mean will be more towards the skewed data."
   ]
  },
  {
   "cell_type": "markdown",
   "id": "541fbaf9-a1d9-4d0c-ab9c-b2ce64b460cb",
   "metadata": {},
   "source": [
    "10> Covariance is the measure of how the two variables differ whereas correlation is the measure of how the two variables are similar."
   ]
  },
  {
   "cell_type": "markdown",
   "id": "761ce70b-30e8-443e-9d05-ecd16e174f57",
   "metadata": {},
   "source": [
    "11> "
   ]
  },
  {
   "cell_type": "code",
   "execution_count": 18,
   "id": "9332f402-03d9-43c8-b3c0-9e52d054aaa2",
   "metadata": {},
   "outputs": [
    {
     "data": {
      "text/plain": [
       "5"
      ]
     },
     "execution_count": 18,
     "metadata": {},
     "output_type": "execute_result"
    }
   ],
   "source": [
    "import statistics as st\n",
    "df=[1,2,3,4,5,6,7,8,9]\n",
    "st.mean(df)"
   ]
  },
  {
   "cell_type": "markdown",
   "id": "629ab9fb-bec7-402d-b2a6-da9d137e7ce2",
   "metadata": {},
   "source": [
    "12> For normally distributed data, all three measures of central tendency will give you the same answer so they can all be used. In skewed distributions, the median is the best measure because it is unaffected by extreme outliers or non-symmetric distributions of scores. The mean and mode can vary in skewed distributions."
   ]
  },
  {
   "cell_type": "markdown",
   "id": "3cbedd98-fdce-418d-a528-7d1281f6bc00",
   "metadata": {},
   "source": [
    "13> Covariance is the measure of how the two variables differ whereas correlation is the measure of how the two variables are similar."
   ]
  },
  {
   "cell_type": "markdown",
   "id": "5e5857d7-5df8-4565-931c-2bea9279aff3",
   "metadata": {},
   "source": [
    "14> In skewed distributions, the median is the best measure because it is unaffected by extreme outliers or non-symmetric distributions of scores. The mean and mode can vary in skewed distributions. "
   ]
  },
  {
   "cell_type": "code",
   "execution_count": 21,
   "id": "fbc73d97-7312-4949-9fcb-5d5374e4d5b1",
   "metadata": {},
   "outputs": [
    {
     "data": {
      "text/plain": [
       "14.5"
      ]
     },
     "execution_count": 21,
     "metadata": {},
     "output_type": "execute_result"
    }
   ],
   "source": [
    "import statistics as st\n",
    "df=[1,2,3,4,5,6,7,8,9,100]\n",
    "st.mean(df)\n"
   ]
  },
  {
   "cell_type": "code",
   "execution_count": 22,
   "id": "81a9aafe-4ff7-468d-b797-7b6f388cfdd4",
   "metadata": {},
   "outputs": [
    {
     "data": {
      "text/plain": [
       "5.5"
      ]
     },
     "execution_count": 22,
     "metadata": {},
     "output_type": "execute_result"
    }
   ],
   "source": [
    "st.median(df)"
   ]
  },
  {
   "cell_type": "code",
   "execution_count": null,
   "id": "9eb1f782-0b21-4786-84b5-acd1c251d438",
   "metadata": {},
   "outputs": [],
   "source": []
  }
 ],
 "metadata": {
  "kernelspec": {
   "display_name": "Python 3 (ipykernel)",
   "language": "python",
   "name": "python3"
  },
  "language_info": {
   "codemirror_mode": {
    "name": "ipython",
    "version": 3
   },
   "file_extension": ".py",
   "mimetype": "text/x-python",
   "name": "python",
   "nbconvert_exporter": "python",
   "pygments_lexer": "ipython3",
   "version": "3.10.8"
  }
 },
 "nbformat": 4,
 "nbformat_minor": 5
}
